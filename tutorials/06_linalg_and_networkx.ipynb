{
 "cells": [
  {
   "cell_type": "markdown",
   "metadata": {},
   "source": [
    "# [NTDS'18] tutorial 6: linear algebra for graphs and networkx\n",
    "[ntds'18]: https://github.com/mdeff/ntds_2018\n",
    "\n",
    "[Benjamin Ricaud](https://people.epfl.ch/benjamin.ricaud), [EPFL LTS2](https://lts2.epfl.ch)"
   ]
  },
  {
   "cell_type": "code",
   "execution_count": 1,
   "metadata": {},
   "outputs": [],
   "source": [
    "import numpy as np\n",
    "import networkx as nx\n",
    "import matplotlib.pyplot as plt"
   ]
  },
  {
   "cell_type": "markdown",
   "metadata": {},
   "source": [
    "## 1 The gradient, incidence and Laplacian matrices"
   ]
  },
  {
   "cell_type": "markdown",
   "metadata": {},
   "source": [
    "### 1.1 Simple unweighted, undirected graph: the path graph\n",
    "\n",
    "A first simple example to understand the definition of these matrices and their relationships."
   ]
  },
  {
   "cell_type": "code",
   "execution_count": 40,
   "metadata": {},
   "outputs": [
    {
     "name": "stderr",
     "output_type": "stream",
     "text": [
      "/Users/charlescoen/miniconda3/envs/ntds_2018/lib/python3.6/site-packages/networkx/drawing/nx_pylab.py:611: MatplotlibDeprecationWarning: isinstance(..., numbers.Number)\n",
      "  if cb.is_numlike(alpha):\n"
     ]
    },
    {
     "data": {
      "image/png": "[encoded data removed]",
      "text/plain": [
       "<Figure size 432x288 with 1 Axes>"
      ]
     },
     "metadata": {},
     "output_type": "display_data"
    }
   ],
   "source": [
    "Gl = nx.path_graph(4)\n",
    "nx.draw(Gl, with_labels=True)"
   ]
  },
  {
   "cell_type": "code",
   "execution_count": 41,
   "metadata": {},
   "outputs": [
    {
     "data": {
      "text/plain": [
       "matrix([[0, 1, 0, 0],\n",
       "        [1, 0, 1, 0],\n",
       "        [0, 1, 0, 1],\n",
       "        [0, 0, 1, 0]], dtype=int64)"
      ]
     },
     "execution_count": 41,
     "metadata": {},
     "output_type": "execute_result"
    }
   ],
   "source": [
    "A = nx.adjacency_matrix(Gl)\n",
    "A.todense() # numpy matrix"
   ]
  },
  {
   "cell_type": "code",
   "execution_count": 50,
   "metadata": {},
   "outputs": [
    {
     "data": {
      "text/plain": [
       "matrix([[-1.,  0.,  0.],\n",
       "        [ 1., -1.,  0.],\n",
       "        [ 0.,  1., -1.],\n",
       "        [ 0.,  0.,  1.]])"
      ]
     },
     "execution_count": 50,
     "metadata": {},
     "output_type": "execute_result"
    }
   ],
   "source": [
    "S = nx.incidence_matrix(Gl, oriented=True)\n",
    "S.todense()"
   ]
  },
  {
   "cell_type": "code",
   "execution_count": 47,
   "metadata": {},
   "outputs": [
    {
     "data": {
      "text/plain": [
       "matrix([[1., 1., 0., 0.],\n",
       "        [1., 2., 1., 0.],\n",
       "        [0., 1., 2., 1.],\n",
       "        [0., 0., 1., 1.]])"
      ]
     },
     "execution_count": 47,
     "metadata": {},
     "output_type": "execute_result"
    }
   ],
   "source": [
    "S.dot(S.T).todense()"
   ]
  },
  {
   "cell_type": "code",
   "execution_count": 77,
   "metadata": {},
   "outputs": [],
   "source": [
    "degree = A.A.sum(axis=0)\n",
    "incidence = np.zeros((4,3))\n",
    "edge = 0\n",
    "for i in range(0,4):\n",
    "    for j in range(i+1, 4):\n",
    "        if A[i,j] != 0:\n",
    "            incidence[i,edge] = 1/np.sqrt(degree[i])\n",
    "            incidence[j,edge] = -1/np.sqrt(degree[j])\n",
    "            edge = edge + 1"
   ]
  },
  {
   "cell_type": "code",
   "execution_count": 78,
   "metadata": {},
   "outputs": [
    {
     "data": {
      "text/plain": [
       "array([[ 1.        ,  0.        ,  0.        ],\n",
       "       [-0.70710678,  0.70710678,  0.        ],\n",
       "       [ 0.        , -0.70710678,  0.70710678],\n",
       "       [ 0.        ,  0.        , -1.        ]])"
      ]
     },
     "execution_count": 78,
     "metadata": {},
     "output_type": "execute_result"
    }
   ],
   "source": [
    "incidence"
   ]
  },
  {
   "cell_type": "code",
   "execution_count": 79,
   "metadata": {},
   "outputs": [
    {
     "data": {
      "text/plain": [
       "array([[ 1.        , -0.70710678,  0.        ,  0.        ],\n",
       "       [-0.70710678,  1.        , -0.5       ,  0.        ],\n",
       "       [ 0.        , -0.5       ,  1.        , -0.70710678],\n",
       "       [ 0.        ,  0.        , -0.70710678,  1.        ]])"
      ]
     },
     "execution_count": 79,
     "metadata": {},
     "output_type": "execute_result"
    }
   ],
   "source": [
    "incidence.dot(incidence.T)"
   ]
  },
  {
   "cell_type": "code",
   "execution_count": 49,
   "metadata": {},
   "outputs": [
    {
     "data": {
      "text/plain": [
       "matrix([[ 1.        , -0.70710678,  0.        ,  0.        ],\n",
       "        [-0.70710678,  1.        , -0.5       ,  0.        ],\n",
       "        [ 0.        , -0.5       ,  1.        , -0.70710678],\n",
       "        [ 0.        ,  0.        , -0.70710678,  1.        ]])"
      ]
     },
     "execution_count": 49,
     "metadata": {},
     "output_type": "execute_result"
    }
   ],
   "source": [
    "L = nx.normalized_laplacian_matrix(Gl)\n",
    "L.todense()"
   ]
  },
  {
   "cell_type": "markdown",
   "metadata": {},
   "source": [
    "$ SS^\\top=L$\n",
    "and here $\\nabla = S^\\top$.\n",
    "\n",
    "$S$ is defined only for the case of unweighted graphs."
   ]
  },
  {
   "cell_type": "markdown",
   "metadata": {},
   "source": [
    "### 1.2 General definition of the gradient\n",
    "\n",
    "Let $\\cal{V}$ be the vertex set and $\\cal{E}$ the edge set.\n",
    "The gradient $\\nabla: \\cal{V}\\to \\cal{E}$ is defined as follows:\n",
    "$$(\\nabla f)[i,j] = \\sqrt{w_{ij}}(f[j]-f[i]),\n",
    "$$\n",
    "where $f\\in\\cal{V}$ and $w_{ij}$ is the edge weight between nodes $i$ and $j$.\n",
    "\n",
    "Let us justify this definition."
   ]
  },
  {
   "cell_type": "markdown",
   "metadata": {},
   "source": [
    "### 1.3 Connection with the standard discrete setting\n",
    "\n",
    "A one-dimensional regularly sampled signal can be seen as a signal on a path graph."
   ]
  },
  {
   "cell_type": "code",
   "execution_count": 7,
   "metadata": {},
   "outputs": [
    {
     "name": "stderr",
     "output_type": "stream",
     "text": [
      "/Users/charlescoen/miniconda3/envs/ntds_2018/lib/python3.6/site-packages/networkx/drawing/nx_pylab.py:611: MatplotlibDeprecationWarning: isinstance(..., numbers.Number)\n",
      "  if cb.is_numlike(alpha):\n"
     ]
    },
    {
     "data": {
      "image/png": "[encoded data removed]",
      "text/plain": [
       "<Figure size 432x288 with 1 Axes>"
      ]
     },
     "metadata": {},
     "output_type": "display_data"
    }
   ],
   "source": [
    "# Let us build the path graph again\n",
    "Gl = nx.path_graph(4)\n",
    "pos = dict((n,(n,0)) for n in Gl.nodes())\n",
    "nx.draw(Gl, pos, with_labels=True)"
   ]
  },
  {
   "cell_type": "markdown",
   "metadata": {},
   "source": [
    "An example of a function and its gradient."
   ]
  },
  {
   "cell_type": "code",
   "execution_count": 8,
   "metadata": {},
   "outputs": [
    {
     "data": {
      "image/png": "[encoded data removed]",
      "text/plain": [
       "<Figure size 432x288 with 1 Axes>"
      ]
     },
     "metadata": {},
     "output_type": "display_data"
    }
   ],
   "source": [
    "# Example of a function on the nodes\n",
    "f = [1, 1, 2, 1]\n",
    "# Plot the function\n",
    "plt.plot(f)\n",
    "# plot the path graph\n",
    "plt.plot([0, 1, 2, 3], [0, 0, 0, 0], 'k')  # black line\n",
    "plt.scatter(*zip(*pos.values()), c='r', s=300)  # red dots\n",
    "plt.grid()"
   ]
  },
  {
   "cell_type": "markdown",
   "metadata": {},
   "source": [
    "The standard gradient is:\n",
    "$$f'[1]=\\nabla f[1] = \\frac{f[2]-f[1]}{\\delta x}.\n",
    "$$\n",
    "Let $w=1/\\delta x^2$.  We have in matrix form:\n",
    "$$\\nabla =\\left(\\begin{matrix} -1& 1&0&0\\\\0 &-1&1&0\\\\0&0&-1&1\\\\0&0&0&-1 \\end{matrix}\\right)\\times \\frac{1}{dx} = \n",
    "\\left(\\begin{matrix} -\\sqrt{w}& \\sqrt{w}&0&0\\\\0 &-\\sqrt{w}&\\sqrt{w}&0\\\\0&0&-\\sqrt{w}&\\sqrt{w}\\\\0&0&0&-\\sqrt{w} \\end{matrix}\\right).\n",
    "$$\n",
    "Here, it is a $4\\times 4$ matrix (4 nodes).\n",
    "\n",
    "$$\\nabla f = \n",
    "\\left(\\begin{matrix} -\\sqrt{w}& \\sqrt{w}&0&0\\\\0 &-\\sqrt{w}&\\sqrt{w}&0\\\\0&0&-\\sqrt{w}&\\sqrt{w}\\\\0&0&0&-\\sqrt{w} \\end{matrix}\\right)\\left(\\begin{matrix}f[0]\\\\f[1]\\\\f[2]\\\\f[3] \\end{matrix}\\right)=\\left(\\begin{matrix}f[1]-f[0]\\\\f[2]-f[1]\\\\f[3]-f[2]\\\\-f[3] \\end{matrix}\\right)\\times \\sqrt{w}.\n",
    "$$\n",
    "The transpose gives:\n",
    "$$\\nabla^\\top f[1] = \\frac{f[0]-f[1]}{\\delta x}\n",
    "$$"
   ]
  },
  {
   "cell_type": "markdown",
   "metadata": {},
   "source": [
    "Problem:\n",
    "\n",
    "* You have to define boundary conditions (periodic, infinite line,...), or have the same number of edges and nodes.\n",
    "\n",
    "This is solved if the gradient is defined on the edges.\n",
    "\n",
    "**Remark:** we could have $f'[1] = \\frac{f[1]-f[0]}{\\delta x}$, depending on the convention."
   ]
  },
  {
   "cell_type": "markdown",
   "metadata": {},
   "source": [
    "What about the Laplacian (seen as the second derivative)?\n",
    "$$ L f[1]= \\nabla^\\top(\\nabla f)[1] = \\frac{f'[0]-f'[1]}{\\delta x}=\\frac{f[1]-f[0] - (f[2]-f[1])}{\\delta x^2} = w(f[1]-f[0])+w(f[1]-f[2])\n",
    "$$"
   ]
  },
  {
   "cell_type": "markdown",
   "metadata": {},
   "source": [
    "### 1.4 A graph with weights"
   ]
  },
  {
   "cell_type": "code",
   "execution_count": 9,
   "metadata": {},
   "outputs": [],
   "source": [
    "# Let us change the weights of the path graph\n",
    "Aw = A.copy()\n",
    "Aw[0, 1] = 2\n",
    "Aw[1, 0] = 2\n",
    "Aw[1, 2] = 10\n",
    "Aw[2, 1] = 10"
   ]
  },
  {
   "cell_type": "code",
   "execution_count": 10,
   "metadata": {},
   "outputs": [
    {
     "name": "stderr",
     "output_type": "stream",
     "text": [
      "/Users/charlescoen/miniconda3/envs/ntds_2018/lib/python3.6/site-packages/networkx/drawing/nx_pylab.py:611: MatplotlibDeprecationWarning: isinstance(..., numbers.Number)\n",
      "  if cb.is_numlike(alpha):\n"
     ]
    },
    {
     "data": {
      "image/png": "[encoded data removed]",
      "text/plain": [
       "<Figure size 432x288 with 1 Axes>"
      ]
     },
     "metadata": {},
     "output_type": "display_data"
    }
   ],
   "source": [
    "Gw = nx.from_numpy_array(Aw.todense())\n",
    "nx.draw(Gw, with_labels=True)"
   ]
  },
  {
   "cell_type": "code",
   "execution_count": 11,
   "metadata": {},
   "outputs": [
    {
     "data": {
      "text/plain": [
       "matrix([[ -2.,   0.,   0.],\n",
       "        [  2., -10.,   0.],\n",
       "        [  0.,  10.,  -1.],\n",
       "        [  0.,   0.,   1.]])"
      ]
     },
     "execution_count": 11,
     "metadata": {},
     "output_type": "execute_result"
    }
   ],
   "source": [
    "S = nx.incidence_matrix(Gw, oriented=True, weight='weight')\n",
    "S.todense()"
   ]
  },
  {
   "cell_type": "code",
   "execution_count": 12,
   "metadata": {},
   "outputs": [
    {
     "data": {
      "text/plain": [
       "matrix([[   4.,   -4.,    0.,    0.],\n",
       "        [  -4.,  104., -100.,    0.],\n",
       "        [   0., -100.,  101.,   -1.],\n",
       "        [   0.,    0.,   -1.,    1.]])"
      ]
     },
     "execution_count": 12,
     "metadata": {},
     "output_type": "execute_result"
    }
   ],
   "source": [
    "S.dot(S.T).todense()"
   ]
  },
  {
   "cell_type": "code",
   "execution_count": 13,
   "metadata": {},
   "outputs": [
    {
     "data": {
      "text/plain": [
       "matrix([[  2,  -2,   0,   0],\n",
       "        [ -2,  12, -10,   0],\n",
       "        [  0, -10,  11,  -1],\n",
       "        [  0,   0,  -1,   1]], dtype=int64)"
      ]
     },
     "execution_count": 13,
     "metadata": {},
     "output_type": "execute_result"
    }
   ],
   "source": [
    "L = nx.laplacian_matrix(Gw)\n",
    "L.todense()"
   ]
  },
  {
   "cell_type": "markdown",
   "metadata": {},
   "source": [
    "The definitions do not match any more in this case."
   ]
  },
  {
   "cell_type": "markdown",
   "metadata": {},
   "source": [
    "### 1.5 A directed graph example"
   ]
  },
  {
   "cell_type": "code",
   "execution_count": 14,
   "metadata": {},
   "outputs": [],
   "source": [
    "Gld = nx.path_graph(4, create_using=nx.DiGraph())"
   ]
  },
  {
   "cell_type": "code",
   "execution_count": 15,
   "metadata": {},
   "outputs": [
    {
     "data": {
      "image/png": "[encoded data removed]",
      "text/plain": [
       "<Figure size 432x288 with 1 Axes>"
      ]
     },
     "metadata": {},
     "output_type": "display_data"
    }
   ],
   "source": [
    "nx.draw(Gld, with_labels=True)"
   ]
  },
  {
   "cell_type": "code",
   "execution_count": 16,
   "metadata": {},
   "outputs": [
    {
     "data": {
      "text/plain": [
       "matrix([[-1.,  0.,  0.],\n",
       "        [ 1., -1.,  0.],\n",
       "        [ 0.,  1., -1.],\n",
       "        [ 0.,  0.,  1.]])"
      ]
     },
     "execution_count": 16,
     "metadata": {},
     "output_type": "execute_result"
    }
   ],
   "source": [
    "nx.incidence_matrix(Gld, oriented=True).todense()"
   ]
  },
  {
   "cell_type": "code",
   "execution_count": 17,
   "metadata": {},
   "outputs": [
    {
     "data": {
      "text/plain": [
       "matrix([[0, 1, 0, 0],\n",
       "        [0, 0, 1, 0],\n",
       "        [0, 0, 0, 1],\n",
       "        [0, 0, 0, 0]], dtype=int64)"
      ]
     },
     "execution_count": 17,
     "metadata": {},
     "output_type": "execute_result"
    }
   ],
   "source": [
    "nx.adjacency_matrix(Gld).todense()"
   ]
  },
  {
   "cell_type": "code",
   "execution_count": 18,
   "metadata": {},
   "outputs": [
    {
     "ename": "NetworkXNotImplemented",
     "evalue": "not implemented for directed type",
     "output_type": "error",
     "traceback": [
      "\u001b[0;31m---------------------------------------------------------------------------\u001b[0m",
      "\u001b[0;31mNetworkXNotImplemented\u001b[0m                    Traceback (most recent call last)",
      "\u001b[0;32m<ipython-input-18-02114be94cc3>\u001b[0m in \u001b[0;36m<module>\u001b[0;34m()\u001b[0m\n\u001b[0;32m----> 1\u001b[0;31m \u001b[0mnx\u001b[0m\u001b[0;34m.\u001b[0m\u001b[0mlaplacian_matrix\u001b[0m\u001b[0;34m(\u001b[0m\u001b[0mGld\u001b[0m\u001b[0;34m)\u001b[0m\u001b[0;34m\u001b[0m\u001b[0m\n\u001b[0m\u001b[1;32m      2\u001b[0m \u001b[0;31m# Not implemented!\u001b[0m\u001b[0;34m\u001b[0m\u001b[0;34m\u001b[0m\u001b[0m\n",
      "\u001b[0;32m<decorator-gen-754>\u001b[0m in \u001b[0;36mlaplacian_matrix\u001b[0;34m(G, nodelist, weight)\u001b[0m\n",
      "\u001b[0;32m~/miniconda3/envs/ntds_2018/lib/python3.6/site-packages/networkx/utils/decorators.py\u001b[0m in \u001b[0;36m_not_implemented_for\u001b[0;34m(not_implement_for_func, *args, **kwargs)\u001b[0m\n\u001b[1;32m     78\u001b[0m         \u001b[0;32mif\u001b[0m \u001b[0mmatch\u001b[0m\u001b[0;34m:\u001b[0m\u001b[0;34m\u001b[0m\u001b[0m\n\u001b[1;32m     79\u001b[0m             \u001b[0mmsg\u001b[0m \u001b[0;34m=\u001b[0m \u001b[0;34m'not implemented for %s type'\u001b[0m \u001b[0;34m%\u001b[0m \u001b[0;34m' '\u001b[0m\u001b[0;34m.\u001b[0m\u001b[0mjoin\u001b[0m\u001b[0;34m(\u001b[0m\u001b[0mgraph_types\u001b[0m\u001b[0;34m)\u001b[0m\u001b[0;34m\u001b[0m\u001b[0m\n\u001b[0;32m---> 80\u001b[0;31m             \u001b[0;32mraise\u001b[0m \u001b[0mnx\u001b[0m\u001b[0;34m.\u001b[0m\u001b[0mNetworkXNotImplemented\u001b[0m\u001b[0;34m(\u001b[0m\u001b[0mmsg\u001b[0m\u001b[0;34m)\u001b[0m\u001b[0;34m\u001b[0m\u001b[0m\n\u001b[0m\u001b[1;32m     81\u001b[0m         \u001b[0;32melse\u001b[0m\u001b[0;34m:\u001b[0m\u001b[0;34m\u001b[0m\u001b[0m\n\u001b[1;32m     82\u001b[0m             \u001b[0;32mreturn\u001b[0m \u001b[0mnot_implement_for_func\u001b[0m\u001b[0;34m(\u001b[0m\u001b[0;34m*\u001b[0m\u001b[0margs\u001b[0m\u001b[0;34m,\u001b[0m \u001b[0;34m**\u001b[0m\u001b[0mkwargs\u001b[0m\u001b[0;34m)\u001b[0m\u001b[0;34m\u001b[0m\u001b[0m\n",
      "\u001b[0;31mNetworkXNotImplemented\u001b[0m: not implemented for directed type"
     ]
    }
   ],
   "source": [
    "nx.laplacian_matrix(Gld)\n",
    "# Not implemented!"
   ]
  },
  {
   "cell_type": "markdown",
   "metadata": {},
   "source": [
    "### 1.6 How to compute the gradient?\n",
    "\n",
    "Let $N$ be the number of nodes and $E$ the number of edges.\n",
    "\n",
    "Remarks:\n",
    "* The weight matrix is a $N\\times N$ matrix where the entries are edge weights.\n",
    "* For each edge the gradient is $\\nabla f [i,j] = \\sqrt{w_{ij}}(f(j)-f(i))$.\n",
    "* The gradient matrix is of size $E\\times N$.\n",
    "\n",
    "Construct the Gradient matrix by iterating over the row and columns of the adjacency matrix."
   ]
  },
  {
   "cell_type": "code",
   "execution_count": 19,
   "metadata": {},
   "outputs": [
    {
     "name": "stderr",
     "output_type": "stream",
     "text": [
      "/Users/charlescoen/miniconda3/envs/ntds_2018/lib/python3.6/site-packages/networkx/drawing/nx_pylab.py:611: MatplotlibDeprecationWarning: isinstance(..., numbers.Number)\n",
      "  if cb.is_numlike(alpha):\n"
     ]
    },
    {
     "data": {
      "image/png": "[encoded data removed]",
      "text/plain": [
       "<Figure size 144x144 with 1 Axes>"
      ]
     },
     "metadata": {},
     "output_type": "display_data"
    }
   ],
   "source": [
    "# Let us load the path graph again\n",
    "Gl = nx.path_graph(4)\n",
    "A = nx.adj_matrix(Gl)\n",
    "A = A.todense()\n",
    "plt.figure(figsize=(2, 2))\n",
    "nx.draw(Gl, with_labels=True)"
   ]
  },
  {
   "cell_type": "code",
   "execution_count": 20,
   "metadata": {},
   "outputs": [
    {
     "name": "stdout",
     "output_type": "stream",
     "text": [
      "Weight matrix\n",
      "[[0 1 0 0]\n",
      " [1 0 1 0]\n",
      " [0 1 0 1]\n",
      " [0 0 1 0]]\n"
     ]
    }
   ],
   "source": [
    "print('Weight matrix')\n",
    "print(A)"
   ]
  },
  {
   "cell_type": "markdown",
   "metadata": {},
   "source": [
    "Exercice: compute the gradient of this graph."
   ]
  },
  {
   "cell_type": "code",
   "execution_count": 21,
   "metadata": {},
   "outputs": [
    {
     "name": "stdout",
     "output_type": "stream",
     "text": [
      "Edge (0,1) has index 0 and weight 1.\n",
      "Edge (1,0) has index 1 and weight 1.\n",
      "Edge (1,2) has index 2 and weight 1.\n",
      "Edge (2,1) has index 3 and weight 1.\n",
      "Edge (2,3) has index 4 and weight 1.\n",
      "Edge (3,2) has index 5 and weight 1.\n"
     ]
    }
   ],
   "source": [
    "# Let us compute the gradient\n",
    "N = A.shape[0]  # number of nodes\n",
    "E = np.sum(A>0)  # number of edges (non-zero entries of A)\n",
    "gradient = np.zeros((E, N))\n",
    "eij = 0  # edge index\n",
    "for i in range(N):\n",
    "    for j in range(N):\n",
    "        wij = A[i, j]\n",
    "        if wij > 0:\n",
    "            print('Edge ({},{}) has index {} and weight {}.'.format(i, j, eij, wij))\n",
    "            eij = eij + 1  # increment the edge index"
   ]
  },
  {
   "cell_type": "markdown",
   "metadata": {},
   "source": [
    "**Remark:** it is twice the number of edges expected!\n",
    "\n",
    "2 points of view:\n",
    "\n",
    "* You discard half of the edges (choose a direction for each edge) or,\n",
    "\n",
    "* You can see an undirected edge as a sum of 2 directed edges in opposite directions, but you have to divide by 2 for the Laplacian:\n",
    "$$L = \\frac{1}{2} \\nabla^\\top \\nabla.$$"
   ]
  },
  {
   "cell_type": "code",
   "execution_count": 22,
   "metadata": {},
   "outputs": [],
   "source": [
    "L = nx.laplacian_matrix(Gl)"
   ]
  },
  {
   "cell_type": "markdown",
   "metadata": {},
   "source": [
    "Compare the laplacian obtained from your gradient and the laplacian given by networkx."
   ]
  },
  {
   "cell_type": "code",
   "execution_count": 23,
   "metadata": {},
   "outputs": [],
   "source": [
    "# Exercise"
   ]
  },
  {
   "cell_type": "markdown",
   "metadata": {},
   "source": [
    "## 3 Eigenvectors and their visualization"
   ]
  },
  {
   "cell_type": "markdown",
   "metadata": {},
   "source": [
    "### 3.1 The grid graph"
   ]
  },
  {
   "cell_type": "code",
   "execution_count": 24,
   "metadata": {},
   "outputs": [
    {
     "name": "stderr",
     "output_type": "stream",
     "text": [
      "/Users/charlescoen/miniconda3/envs/ntds_2018/lib/python3.6/site-packages/networkx/drawing/nx_pylab.py:611: MatplotlibDeprecationWarning: isinstance(..., numbers.Number)\n",
      "  if cb.is_numlike(alpha):\n"
     ]
    },
    {
     "data": {
      "image/png": "[encoded data removed]",
      "text/plain": [
       "<Figure size 432x288 with 1 Axes>"
      ]
     },
     "metadata": {},
     "output_type": "display_data"
    }
   ],
   "source": [
    "# Let us build a 2d grid graph\n",
    "nb_rows, nb_cols = 5, 7\n",
    "Gd = nx.grid_2d_graph(nb_cols, nb_rows, periodic=False)#True)\n",
    "Ad = nx.adjacency_matrix(Gd)\n",
    "# Choose regular positions\n",
    "pos = dict((n, n) for n in Gd.nodes())\n",
    "#nx.draw_networkx(Gd)\n",
    "nx.draw(Gd, pos, with_labels=True)"
   ]
  },
  {
   "cell_type": "markdown",
   "metadata": {},
   "source": [
    "Remark: networkx function `grid_2d_graph` label nodes with their 2d coordinates (i,j)."
   ]
  },
  {
   "cell_type": "markdown",
   "metadata": {},
   "source": [
    "### 3.2 Function on a graph\n",
    "\n",
    "A \"Dirac delta\" function is a function that is zero everywhere except at one point."
   ]
  },
  {
   "cell_type": "code",
   "execution_count": 34,
   "metadata": {},
   "outputs": [],
   "source": [
    "nb_nodes = nb_rows * nb_cols\n",
    "f = np.zeros((nb_nodes, 1))\n",
    "peak_position = 5\n",
    "f[peak_position] = 1"
   ]
  },
  {
   "cell_type": "code",
   "execution_count": 35,
   "metadata": {},
   "outputs": [
    {
     "name": "stderr",
     "output_type": "stream",
     "text": [
      "/Users/charlescoen/miniconda3/envs/ntds_2018/lib/python3.6/site-packages/networkx/drawing/nx_pylab.py:611: MatplotlibDeprecationWarning: isinstance(..., numbers.Number)\n",
      "  if cb.is_numlike(alpha):\n"
     ]
    },
    {
     "data": {
      "text/plain": [
       "Text(0.5, 1.0, 'Dirac delta at position 5')"
      ]
     },
     "execution_count": 35,
     "metadata": {},
     "output_type": "execute_result"
    },
    {
     "data": {
      "image/png": "[encoded data removed]",
      "text/plain": [
       "<Figure size 432x288 with 1 Axes>"
      ]
     },
     "metadata": {},
     "output_type": "display_data"
    }
   ],
   "source": [
    "nx.draw(Gd, pos,node_color=f.flatten())\n",
    "plt.title('Dirac delta at position ' + str(peak_position))"
   ]
  },
  {
   "cell_type": "code",
   "execution_count": 36,
   "metadata": {},
   "outputs": [],
   "source": [
    "L = nx.laplacian_matrix(Gd)\n",
    "eigval, eigvect = np.linalg.eigh(L.todense())"
   ]
  },
  {
   "cell_type": "code",
   "execution_count": 38,
   "metadata": {},
   "outputs": [
    {
     "name": "stderr",
     "output_type": "stream",
     "text": [
      "/Users/charlescoen/miniconda3/envs/ntds_2018/lib/python3.6/site-packages/networkx/drawing/nx_pylab.py:611: MatplotlibDeprecationWarning: isinstance(..., numbers.Number)\n",
      "  if cb.is_numlike(alpha):\n"
     ]
    },
    {
     "data": {
      "image/png": "[encoded data removed]",
      "text/plain": [
       "<Figure size 432x288 with 1 Axes>"
      ]
     },
     "metadata": {},
     "output_type": "display_data"
    }
   ],
   "source": [
    "u_k = np.array(eigvect[:, 0]).flatten()\n",
    "nx.draw(Gd, pos, node_color=u_k)"
   ]
  },
  {
   "cell_type": "code",
   "execution_count": 39,
   "metadata": {},
   "outputs": [
    {
     "data": {
      "text/plain": [
       "array([0.16903085, 0.16903085, 0.16903085, 0.16903085, 0.16903085,\n",
       "       0.16903085, 0.16903085, 0.16903085, 0.16903085, 0.16903085,\n",
       "       0.16903085, 0.16903085, 0.16903085, 0.16903085, 0.16903085,\n",
       "       0.16903085, 0.16903085, 0.16903085, 0.16903085, 0.16903085,\n",
       "       0.16903085, 0.16903085, 0.16903085, 0.16903085, 0.16903085,\n",
       "       0.16903085, 0.16903085, 0.16903085, 0.16903085, 0.16903085,\n",
       "       0.16903085, 0.16903085, 0.16903085, 0.16903085, 0.16903085])"
      ]
     },
     "execution_count": 39,
     "metadata": {},
     "output_type": "execute_result"
    }
   ],
   "source": [
    "u_k"
   ]
  },
  {
   "cell_type": "markdown",
   "metadata": {},
   "source": [
    "### 3.3 An irregular graph\n",
    "\n",
    "Let us see what are the eigenvectors of the Barbell graph.\n",
    "You can try other graphs in the [networkx list](https://networkx.github.io/documentation/stable/reference/generators.html).\n",
    "\n",
    "For drawing the graph you can use [networkx graph layouts](https://networkx.github.io/documentation/stable/reference/drawing.html#module-networkx.drawing.layout). For example, `spectral_layout` gives the Laplacian eigenmaps."
   ]
  },
  {
   "cell_type": "code",
   "execution_count": 30,
   "metadata": {},
   "outputs": [
    {
     "name": "stderr",
     "output_type": "stream",
     "text": [
      "/Users/charlescoen/miniconda3/envs/ntds_2018/lib/python3.6/site-packages/networkx/drawing/nx_pylab.py:611: MatplotlibDeprecationWarning: isinstance(..., numbers.Number)\n",
      "  if cb.is_numlike(alpha):\n"
     ]
    },
    {
     "data": {
      "image/png": "[encoded data removed]",
      "text/plain": [
       "<Figure size 432x288 with 1 Axes>"
      ]
     },
     "metadata": {},
     "output_type": "display_data"
    }
   ],
   "source": [
    "Gb = nx.barbell_graph(5, 3)\n",
    "#nx.draw(Gb, pos=posGb, with_labels=True)\n",
    "posGb = nx.spring_layout(Gb)\n",
    "nx.draw(Gb, pos=posGb, with_labels=True)"
   ]
  },
  {
   "cell_type": "code",
   "execution_count": 31,
   "metadata": {},
   "outputs": [],
   "source": [
    "Lb = nx.laplacian_matrix(Gb)\n",
    "eigval, eigvect = np.linalg.eigh(Lb.todense())"
   ]
  },
  {
   "cell_type": "code",
   "execution_count": null,
   "metadata": {},
   "outputs": [],
   "source": [
    "u_k = np.array(eigvect[:, 4]).flatten()\n",
    "nx.draw(Gb, pos=posGb, node_color=u_k)"
   ]
  },
  {
   "cell_type": "markdown",
   "metadata": {},
   "source": [
    "Some eigenvectors are peaky!"
   ]
  },
  {
   "cell_type": "code",
   "execution_count": null,
   "metadata": {},
   "outputs": [],
   "source": [
    "plt.plot(u_k)"
   ]
  }
 ],
 "metadata": {
  "kernelspec": {
   "display_name": "Python 3",
   "language": "python",
   "name": "python3"
  },
  "language_info": {
   "codemirror_mode": {
    "name": "ipython",
    "version": 3
   },
   "file_extension": ".py",
   "mimetype": "text/x-python",
   "name": "python",
   "nbconvert_exporter": "python",
   "pygments_lexer": "ipython3",
   "version": "3.6.6"
  }
 },
 "nbformat": 4,
 "nbformat_minor": 2
}
