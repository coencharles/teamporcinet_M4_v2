{
 "cells": [
  {
   "cell_type": "markdown",
   "metadata": {},
   "source": [
    "# NTDS'18 milestone 1: network collection and properties\n",
    "[Effrosyni Simou](https://lts4.epfl.ch/simou), [EPFL LTS4](https://lts4.epfl.ch)"
   ]
  },
  {
   "cell_type": "markdown",
   "metadata": {},
   "source": [
    "## Students\n",
    "\n",
    "* Team: `42`\n",
    "* Students: `Alexandre Poussard, Robin Leurent, Vincent Coriou, Pierre Fouché`\n",
    "* Dataset: [`Flight routes`](https://openflights.org/data.html)"
   ]
  },
  {
   "cell_type": "markdown",
   "metadata": {},
   "source": [
    "## Rules\n",
    "\n",
    "* Milestones have to be completed by teams. No collaboration between teams is allowed.\n",
    "* Textual answers shall be short. Typically one to three sentences.\n",
    "* Code has to be clean.\n",
    "* You cannot import any other library than we imported.\n",
    "* When submitting, the notebook is executed and the results are stored. I.e., if you open the notebook again it should show numerical results and plots. We won't be able to execute your notebooks.\n",
    "* The notebook is re-executed from a blank state before submission. That is to be sure it is reproducible. You can click \"Kernel\" then \"Restart & Run All\" in Jupyter."
   ]
  },
  {
   "cell_type": "markdown",
   "metadata": {},
   "source": [
    "## Objective "
   ]
  },
  {
   "cell_type": "markdown",
   "metadata": {},
   "source": [
    "The purpose of this milestone is to start getting acquainted to the network that you will use for this class. In the first part of the milestone you will import your data using [Pandas](http://pandas.pydata.org) and you will create the adjacency matrix using [Numpy](http://www.numpy.org). This part is project specific. In the second part you will have to compute some basic properties of your network. **For the computation of the properties you are only allowed to use the packages that have been imported in the cell below.** You are not allowed to use any graph-specific toolboxes for this milestone (such as networkx and PyGSP). Furthermore, the aim is not to blindly compute the network properties, but to also start to think about what kind of network you will be working with this semester. "
   ]
  },
  {
   "cell_type": "code",
   "execution_count": null,
   "metadata": {},
   "outputs": [],
   "source": [
    "import numpy as np\n",
    "import pandas as pd\n",
    "import matplotlib.pyplot as plt"
   ]
  },
  {
   "cell_type": "markdown",
   "metadata": {},
   "source": [
    "## Part 1 - Import your data and manipulate them. "
   ]
  },
  {
   "cell_type": "markdown",
   "metadata": {},
   "source": [
    "###  A. Load your data in a Panda dataframe."
   ]
  },
  {
   "cell_type": "markdown",
   "metadata": {},
   "source": [
    "First, you should define and understand what are your nodes, what features you have and what are your labels. Please provide below a Panda dataframe where each row corresponds to a node with its features and labels. For example, in the the case of the Free Music Archive (FMA) Project, each row of the dataframe would be of the following form:\n",
    "\n",
    "\n",
    "| Track   |  Feature 1  | Feature 2 | . . . | Feature 518|  Label 1 |  Label 2 |. . .|Label 16|\n",
    "|:-------:|:-----------:|:---------:|:-----:|:----------:|:--------:|:--------:|:---:|:------:|\n",
    "|         |             |           |       |            |          |          |     |        |\n",
    "\n",
    "It is possible that in some of the projects either the features or the labels are not available. This is OK, in that case just make sure that you create a dataframe where each of the rows corresponds to a node and its associated features or labels."
   ]
  },
  {
   "cell_type": "code",
   "execution_count": null,
   "metadata": {},
   "outputs": [],
   "source": [
    "routesCol = ['Airline','AirlineID','SourceAirport','SourceAirportID',\n",
    "             'DestAirport','DestAirportID','CodeShare','Stops','Equipment']\n",
    "\n",
    "airportsCol = ['AirportID', 'Name', 'City', 'Country', 'IATA', 'ICAO', 'Latitude', 'Longitude',\n",
    "               'Altitude', 'Timezone', 'DST', 'TzDatabaseTimezone', 'Type', 'Source']\n",
    "\n",
    "routes = pd.read_csv(\"data/routes.dat\",header = None,names = routesCol,encoding = 'utf-8', na_values='\\\\N')\n",
    "airports= pd.read_csv(\"data/airports.dat\",header = None, names = airportsCol, encoding = 'utf-8')\n",
    "# We drop nan value for source and destination airport ID because they are not in the airports file\n",
    "# and it does not make sense to keep routes that go nowhere.\n",
    "routes.dropna(subset=[\"SourceAirportID\", \"DestAirportID\"], inplace=True)\n",
    "\n",
    "# Get unique airlines for a source airport.\n",
    "routesAirline = routes[['SourceAirportID','Airline']].groupby('SourceAirportID').nunique().drop(['SourceAirportID'], axis=1)\n",
    "# Get average number of stops of outbound flights (from Source)\n",
    "routesStop = routes[['SourceAirportID', 'Stops']].groupby('SourceAirportID').mean()\n",
    "# Get number of routes that leave the airport\n",
    "routesSource = routes[['SourceAirportID', 'DestAirportID']].groupby('SourceAirportID').count()\n",
    "# Get number of routes that arrive to the airport\n",
    "routesDest = routes[['SourceAirportID', 'DestAirportID']].groupby('DestAirportID').count()\n",
    "\n",
    "# Concatenate everything and fill nan with 0 (if no departure = 0 airline, 0 stop and ratio of 0)\n",
    "features = pd.concat([routesAirline, routesStop, routesSource, routesDest], axis=1, sort=True).fillna(0)\n",
    "features.index = features.index.astype('int64')\n",
    "# Create Ratio\n",
    "features['DestSourceRatio'] = features['DestAirportID']/features['SourceAirportID']\n",
    "# Add countries (as labels)\n",
    "airports_countries = airports[['AirportID', 'Country']].set_index(['AirportID'])\n",
    "features = features.join(airports_countries).sort_index()\n",
    "\n",
    "features.reset_index(level=0, inplace=True)\n",
    "features = features.rename(columns={'index':'AirportID'})\n",
    "features.reset_index(level=0, inplace=True)\n",
    "features = features.rename(columns={'index':'node_idx'})\n",
    "\n",
    "features.head()"
   ]
  },
  {
   "cell_type": "markdown",
   "metadata": {},
   "source": [
    "For now our features are:\n",
    "* Airline : the number our unique airline leaving an airport.\n",
    "* Stops : the average number of stops of an airport's outgoing flights.\n",
    "* DestAirportID: number of the airport incoming flights.\n",
    "* SourceAirportID: number of the airport outgoing flights.\n",
    "* DestSourceRatio: Ratio of the incoming fligths over the outgoing flights. (can be infinite)\n",
    "\n",
    "The only label we have for now is the country.\n",
    "\n"
   ]
  },
  {
   "cell_type": "markdown",
   "metadata": {},
   "source": [
    "### B. Create the adjacency matrix of your network."
   ]
  },
  {
   "cell_type": "markdown",
   "metadata": {},
   "source": [
    "Remember that there are edges connecting the attributed nodes that you organized in the dataframe above. The connectivity of the network is captured by the adjacency matrix $W$. If $N$ is the number of nodes, the adjacency matrix is an $N \\times N$ matrix where the value of $W(i,j)$ is the weight of the edge connecting node $i$ to node $j$.  \n",
    "\n",
    "There are two possible scenarios for your adjacency matrix construction, as you already learned in the tutorial by Benjamin:\n",
    "\n",
    "1) The edges are given to you explicitly. In this case you should simply load the file containing the edge information and parse it in order to create your adjacency matrix. See how to do that in the  [graph from edge list]() demo.\n",
    "\n",
    "2) The edges are not given to you. In that case you will have to create a feature graph. In order to do that you will have to chose a distance that will quantify how similar two nodes are based on the values in their corresponding feature vectors. In the [graph from features]() demo Benjamin showed you how to build feature graphs when using Euclidean distances between feature vectors. Be curious and explore other distances as well! For instance, in the case of high-dimensional feature vectors, you might want to consider using the cosine distance. Once you compute the distances between your nodes you will have a fully connected network. Do not forget to sparsify by keeping the most important edges in your network.\n",
    "\n",
    "Follow the appropriate steps for the construction of the adjacency matrix of your network and provide it in the Numpy array ``adjacency`` below: "
   ]
  },
  {
   "cell_type": "code",
   "execution_count": null,
   "metadata": {},
   "outputs": [],
   "source": [
    "edges = routes[['SourceAirportID', 'DestAirportID']]\n",
    "edges = edges.astype('int64')\n",
    "airportID2idx = features[['node_idx', 'AirportID']]\n",
    "airportID2idx = airportID2idx.set_index('AirportID')\n",
    "edges = edges.join(airportID2idx, on='SourceAirportID')\n",
    "edges = edges.join(airportID2idx, on='DestAirportID', rsuffix='_dest')\n",
    "edges = edges.drop(columns=['SourceAirportID','DestAirportID'])\n",
    "\n",
    "n_nodes = len(features)\n",
    "adjacency = np.zeros((n_nodes, n_nodes), dtype=int)\n",
    "\n",
    "# The weights of the adjacency matrix are the sum of the outgoing flights\n",
    "for idx, row in edges.iterrows():\n",
    "    i, j = int(row.node_idx), int(row.node_idx_dest)\n",
    "    adjacency[i, j] += 1\n",
    "\n",
    "print(\"The number of nodes in the network is {}\".format(n_nodes))\n",
    "adjacency"
   ]
  },
  {
   "cell_type": "markdown",
   "metadata": {},
   "source": [
    "## Part 2"
   ]
  },
  {
   "cell_type": "markdown",
   "metadata": {},
   "source": [
    "Execute the cell below to plot the (weighted) adjacency matrix of your network."
   ]
  },
  {
   "cell_type": "code",
   "execution_count": null,
   "metadata": {},
   "outputs": [],
   "source": [
    "plt.spy(adjacency, markersize=1)\n",
    "plt.title('adjacency matrix')"
   ]
  },
  {
   "cell_type": "markdown",
   "metadata": {},
   "source": [
    "### Question 1\n",
    "\n",
    "What is the maximum number of links $L_{max}$ in a network with $N$ nodes (where $N$ is the number of nodes in your network)? How many links $L$ are there in your collected network? Comment on the sparsity of your network."
   ]
  },
  {
   "cell_type": "code",
   "execution_count": null,
   "metadata": {},
   "outputs": [],
   "source": [
    "# Our graph is directed therefore :\n",
    "Lmax = n_nodes * (n_nodes - 1)\n",
    "print(\"Maximum number of links in our network : {}\".format(Lmax))\n",
    "links = np.count_nonzero(adjacency)\n",
    "print(\"Number of links in our network : {}\".format(links))\n",
    "sparsity = links * 100 / Lmax\n",
    "print(\"The sparsity of our network is : {:.4f}%\".format(sparsity))"
   ]
  },
  {
   "cell_type": "markdown",
   "metadata": {},
   "source": [
    "The maximum number of links $L_{max}$ in an network with $N$ nodes is $L_{maxUndirected}=\\binom{N}{2}=\\frac{N(N-1)}{2}$ and $L_{maxDirected}=N(N-1)$.\n",
    "\n",
    "We can see that our network is very sparse which makes sense as we work on a flights routes dataset. Thus, small airports have few connections compared to the big ones."
   ]
  },
  {
   "cell_type": "markdown",
   "metadata": {},
   "source": [
    "### Question 2\n",
    "\n",
    "Is your graph directed or undirected? If it is directed, convert it to an undirected graph by symmetrizing the adjacency matrix."
   ]
  },
  {
   "cell_type": "markdown",
   "metadata": {},
   "source": [
    "Our graph is directed. (Some airports don't have the same number of incoming and outgoing flights.)"
   ]
  },
  {
   "cell_type": "code",
   "execution_count": null,
   "metadata": {},
   "outputs": [],
   "source": [
    "# We symmetrize our network by summing our weights (the number of incoming and outgoing flights)\n",
    "# since it allows us to keep the maximum number of information.\n",
    "adjacency_sym = adjacency + adjacency.T"
   ]
  },
  {
   "cell_type": "markdown",
   "metadata": {},
   "source": [
    "### Question 3\n",
    "\n",
    "In the cell below save the features dataframe and the **symmetrized** adjacency matrix. You can use the Pandas ``to_csv`` to save the ``features`` and Numpy's ``save`` to save the ``adjacency``. We will reuse those in the following milestones."
   ]
  },
  {
   "cell_type": "code",
   "execution_count": null,
   "metadata": {},
   "outputs": [],
   "source": [
    "features.to_csv('features.csv')\n",
    "np.save('adjacency_sym', adjacency_sym)"
   ]
  },
  {
   "cell_type": "markdown",
   "metadata": {},
   "source": [
    "### Question 4\n",
    "\n",
    "Are the edges of your graph weighted?"
   ]
  },
  {
   "cell_type": "markdown",
   "metadata": {},
   "source": [
    "Yes, the weights of the symmetrized adjacency matrix are the total number of outgoing and incoming flights from each node."
   ]
  },
  {
   "cell_type": "markdown",
   "metadata": {},
   "source": [
    "### Question 5\n",
    "\n",
    "What is the degree distibution of your network? "
   ]
  },
  {
   "cell_type": "code",
   "execution_count": null,
   "metadata": {},
   "outputs": [],
   "source": [
    "# The degree of a node is the sum of its corresponding row or column in the adjacency matrix.\n",
    "degree =  [(line > 0).sum() for line in adjacency_sym]\n",
    "\n",
    "assert len(degree) == n_nodes"
   ]
  },
  {
   "cell_type": "markdown",
   "metadata": {},
   "source": [
    "Execute the cell below to see the histogram of the degree distribution."
   ]
  },
  {
   "cell_type": "code",
   "execution_count": null,
   "metadata": {},
   "outputs": [],
   "source": [
    "weights = np.ones_like(degree) / float(n_nodes)\n",
    "plt.hist(degree, weights=weights);"
   ]
  },
  {
   "cell_type": "markdown",
   "metadata": {},
   "source": [
    "What is the average degree?"
   ]
  },
  {
   "cell_type": "code",
   "execution_count": null,
   "metadata": {},
   "outputs": [],
   "source": [
    "avg_deg = np.mean(degree)\n",
    "print(\"The average degree is {:.4f}\".format(avg_deg))"
   ]
  },
  {
   "cell_type": "markdown",
   "metadata": {},
   "source": [
    "### Question 6\n",
    "\n",
    "Comment on the degree distribution of your network."
   ]
  },
  {
   "cell_type": "code",
   "execution_count": null,
   "metadata": {},
   "outputs": [],
   "source": [
    "test = np.unique(degree,return_counts=True)\n",
    "ax = plt.gca()\n",
    "ax.scatter(test[0],test[1])\n",
    "ax.set_yscale(\"log\")\n",
    "ax.set_xscale(\"log\")"
   ]
  },
  {
   "cell_type": "markdown",
   "metadata": {},
   "source": [
    "Our degree distribution follows a power law distribution, hence our network seems to be scale free as we saw in the lecture."
   ]
  },
  {
   "cell_type": "markdown",
   "metadata": {},
   "source": [
    "### Question 7\n",
    "\n",
    "Write a function that takes as input the adjacency matrix of a graph and determines whether the graph is connected or not."
   ]
  },
  {
   "cell_type": "code",
   "execution_count": null,
   "metadata": {},
   "outputs": [],
   "source": [
    "def BFS(adjacency, labels, state):\n",
    "    \"\"\"\n",
    "    return a component with an array of updated labels (the visited nodes during the BFS)\n",
    "    for a given adjacency matrix\n",
    "    \n",
    "    :param adjacency: The adjacency matrix where to find the component\n",
    "    :param labels: An array of labels (0 : the node is not yet explored, 1: it is explored)\n",
    "    :param state: The # of the component we are looking for\n",
    "    :return: updated labels array and the component found\n",
    "    \"\"\"\n",
    "    queue = []\n",
    "    # current node is the first one with a label to 0\n",
    "    current_node = np.argwhere(labels == 0).flatten()[0]\n",
    "    labels[current_node] = state\n",
    "    queue.append(current_node)\n",
    "\n",
    "    current_component = []\n",
    "    current_component.append(current_node)\n",
    "    \n",
    "    while len(queue) != 0:\n",
    "        # all the weight of the other nodes for a given one\n",
    "        all_nodes = adjacency_sym[current_node]\n",
    "        # all the nodes reachable from the current one that are not yet labeled\n",
    "        neighbours = np.argwhere((all_nodes > 0) & (labels == 0)).flatten()\n",
    "        # add those nodes to the queue and to the component\n",
    "        queue += list(neighbours)\n",
    "        current_component += list(neighbours)\n",
    "        \n",
    "        for i in neighbours:\n",
    "            # we update the labels array\n",
    "            labels[i] = state\n",
    "        if len(queue) > 1:\n",
    "            # and we update the queue and the current node\n",
    "            queue = queue[1:]\n",
    "            current_node = queue[0]\n",
    "        else :\n",
    "            queue = []\n",
    "    \n",
    "    return np.array(labels), current_component    "
   ]
  },
  {
   "cell_type": "code",
   "execution_count": null,
   "metadata": {},
   "outputs": [],
   "source": [
    "def connected_graph(adjacency):\n",
    "    \"\"\"Determines whether a graph is connected.\n",
    "    \n",
    "    Parameters\n",
    "    ----------\n",
    "    adjacency: numpy array\n",
    "        The (weighted) adjacency matrix of a graph.\n",
    "    \n",
    "    Returns\n",
    "    -------\n",
    "    bool\n",
    "        True if the graph is connected, False otherwise.\n",
    "    \"\"\"\n",
    "    #Run the BFS, find a component and see if all the nodes are in it. If so, the graph is connected.\n",
    "    first_labels = np.zeros(n_nodes, dtype=int)\n",
    "    labels, component = BFS(adjacency, first_labels, 1)\n",
    "    return labels.sum() == n_nodes"
   ]
  },
  {
   "cell_type": "markdown",
   "metadata": {},
   "source": [
    "Is your graph connected? Run the ``connected_graph`` function to determine your answer."
   ]
  },
  {
   "cell_type": "code",
   "execution_count": null,
   "metadata": {},
   "outputs": [],
   "source": [
    "connected = connected_graph(adjacency)\n",
    "print(\"Is our graph connected ? {}\".format(connected))"
   ]
  },
  {
   "cell_type": "markdown",
   "metadata": {},
   "source": [
    "### Question 8\n",
    "\n",
    "Write a function that extracts the connected components of a graph."
   ]
  },
  {
   "cell_type": "code",
   "execution_count": null,
   "metadata": {},
   "outputs": [],
   "source": [
    "def find_components(adjacency):\n",
    "    \"\"\"Find the connected components of a graph.\n",
    "    \n",
    "    Parameters\n",
    "    ----------\n",
    "    adjacency: numpy array\n",
    "        The (weighted) adjacency matrix of a graph.\n",
    "    \n",
    "    Returns\n",
    "    -------\n",
    "    list of numpy arrays\n",
    "        A list of adjacency matrices, one per connected component.\n",
    "    \"\"\"\n",
    "    \n",
    "    #Find the first component\n",
    "    components = []\n",
    "    first_labels = np.zeros(n_nodes, dtype=int)\n",
    "    labels, component = BFS(adjacency, first_labels, 1)\n",
    "    components.append(component)\n",
    "    current_state = 2\n",
    "    \n",
    "    #Redo BFS while we haven't found all the components\n",
    "    while (labels > 0).sum() != n_nodes:\n",
    "        labels, component = BFS(adjacency, labels, current_state)\n",
    "        components.append(component)\n",
    "        current_state += 1\n",
    "        \n",
    "    return np.array(components)"
   ]
  },
  {
   "cell_type": "markdown",
   "metadata": {},
   "source": [
    "How many connected components is your network composed of? What is the size of the largest connected component? Run the ``find_components`` function to determine your answer. "
   ]
  },
  {
   "cell_type": "code",
   "execution_count": null,
   "metadata": {},
   "outputs": [],
   "source": [
    "components = find_components(adjacency_sym)\n",
    "print(\"Number of connected components : {}\".format(len(components)))\n",
    "size_compo = [len(compo) for compo in components]\n",
    "print(\"Size of largest connected component : {}\".format(np.max(size_compo)))"
   ]
  },
  {
   "cell_type": "markdown",
   "metadata": {},
   "source": [
    "### Question 9\n",
    "\n",
    "Write a function that takes as input the adjacency matrix and a node (`source`) and returns the length of the shortest path between that node and all nodes in the graph using Dijkstra's algorithm. **For the purposes of this assignment we are interested in the hop distance between nodes, not in the sum of weights. **\n",
    "\n",
    "Hint: You might want to mask the adjacency matrix in the function ``compute_shortest_path_lengths`` in order to make sure you obtain a binary adjacency matrix. "
   ]
  },
  {
   "cell_type": "code",
   "execution_count": null,
   "metadata": {},
   "outputs": [],
   "source": [
    "#Find all the neighbours of a given node\n",
    "def neighbours(node, adjacency_sym):\n",
    "    n = adjacency_sym[node]\n",
    "    neighbours = np.argwhere(n != 0).flatten()\n",
    "    return neighbours"
   ]
  },
  {
   "cell_type": "code",
   "execution_count": null,
   "metadata": {},
   "outputs": [],
   "source": [
    "def compute_shortest_path_lengths(adjacency, source):\n",
    "    \"\"\"Compute the shortest path length between a source node and all nodes.\n",
    "    \n",
    "    Parameters\n",
    "    ----------\n",
    "    adjacency: numpy array\n",
    "        The (weighted) adjacency matrix of a graph.\n",
    "    source: int\n",
    "        The source node. A number between 0 and n_nodes-1.\n",
    "    \n",
    "    Returns\n",
    "    -------\n",
    "    list of ints\n",
    "        The length of the shortest path from source to all nodes. Returned list should be of length n_nodes.\n",
    "    \"\"\"   \n",
    "    \n",
    "    adjacency[adjacency != 0] = 1\n",
    "    shortest_path_lengths = np.ones(adjacency.shape[0]) * np.inf\n",
    "    shortest_path_lengths[source] = 0\n",
    "    visited = [source]\n",
    "    queue = [source]\n",
    "    while queue:\n",
    "        node = queue[0]\n",
    "        queue = queue[1:]\n",
    "        neighbors = neighbours(node, adjacency)\n",
    "        neighbors = np.setdiff1d(neighbors,visited).tolist()\n",
    "        neighbors = np.setdiff1d(neighbors,queue).tolist()\n",
    "        queue += neighbors\n",
    "        visited += neighbors\n",
    "        shortest_path_lengths[neighbors] = shortest_path_lengths[node] + 1\n",
    "    return shortest_path_lengths"
   ]
  },
  {
   "cell_type": "markdown",
   "metadata": {},
   "source": [
    "### Question 10\n",
    "\n",
    "The diameter of the graph is the length of the longest shortest path between any pair of nodes. Use the above developed function to compute the diameter of the graph (or the diameter of the largest connected component of the graph if the graph is not connected). If your graph (or largest connected component) is very large, computing the diameter will take very long. In that case downsample your graph so that it has 1.000 nodes. There are many ways to reduce the size of a graph. For the purposes of this milestone you can chose to randomly select 1.000 nodes. "
   ]
  },
  {
   "cell_type": "code",
   "execution_count": null,
   "metadata": {},
   "outputs": [],
   "source": [
    "max_component = components[np.argmax(size_compo)]\n",
    "adjacency_max = adjacency_sym[max_component, :]\n",
    "adjacency_max = adjacency_max[:, max_component]\n",
    "\n",
    "longest = []\n",
    "a = adjacency_max[:1000,:1000]\n",
    "\n",
    "for node in range(len(a)):\n",
    "    short = compute_shortest_path_lengths(a, node)\n",
    "    longest.append(max(short[ short < np.inf ]))\n",
    "    \n",
    "print(\"The diameter of the graph is {}\".format(max(longest)))"
   ]
  },
  {
   "cell_type": "markdown",
   "metadata": {},
   "source": [
    "### Question 11\n",
    "\n",
    "Write a function that takes as input the adjacency matrix, a path length, and two nodes (`source` and `target`), and returns the number of paths of the given length between them."
   ]
  },
  {
   "cell_type": "code",
   "execution_count": null,
   "metadata": {},
   "outputs": [],
   "source": [
    "def compute_paths(adjacency, source, target, length):\n",
    "    \"\"\"Compute the number of paths of a given length between a source and target node.\n",
    "    \n",
    "    Parameters\n",
    "    ----------\n",
    "    adjacency: numpy array\n",
    "        The (weighted) adjacency matrix of a graph.\n",
    "    source: int\n",
    "        The source node. A number between 0 and n_nodes-1.\n",
    "    target: int\n",
    "        The target node. A number between 0 and n_nodes-1.\n",
    "    length: int\n",
    "        The path length to be considered.\n",
    "    \n",
    "    Returns\n",
    "    -------\n",
    "    int\n",
    "        The number of paths.\n",
    "    \"\"\"\n",
    "    \n",
    "    adjacency[adjacency != 0] = 1\n",
    "    adjacency = np.linalg.matrix_power(adjacency, length)\n",
    "    return adjacency[source, target]"
   ]
  },
  {
   "cell_type": "markdown",
   "metadata": {},
   "source": [
    "Test your function on 5 pairs of nodes, with different lengths."
   ]
  },
  {
   "cell_type": "code",
   "execution_count": null,
   "metadata": {},
   "outputs": [],
   "source": [
    "print(compute_paths(adjacency_sym, 0, 10, 1))\n",
    "print(compute_paths(adjacency_sym, 0, 10, 2))\n",
    "print(compute_paths(adjacency_sym, 0, 10, 3))\n",
    "print(compute_paths(adjacency_sym, 23, 67, 2))\n",
    "print(compute_paths(adjacency_sym, 15, 93, 4))"
   ]
  },
  {
   "cell_type": "markdown",
   "metadata": {},
   "source": [
    "### Question 12\n",
    "\n",
    "How many paths of length 3 are there in your graph? Hint: calling the `compute_paths` function on every pair of node is not an efficient way to do it."
   ]
  },
  {
   "cell_type": "code",
   "execution_count": null,
   "metadata": {},
   "outputs": [],
   "source": [
    "# We could have used np.linalg.matrix_power(a, 3), but for performance reasons we prefered to make \n",
    "#the multiplication explicitely.\n",
    "a = adjacency_sym.copy()\n",
    "a[a != 0] = 1\n",
    "a = a @ a @ a\n",
    "print(\"Number of path of length 3: {}\".format(a.sum()))"
   ]
  },
  {
   "cell_type": "markdown",
   "metadata": {},
   "source": [
    "### Question 13\n",
    "\n",
    "Write a function that takes as input the adjacency matrix of your graph (or of the largest connected component of your graph) and a node and returns the clustering coefficient of that node. "
   ]
  },
  {
   "cell_type": "code",
   "execution_count": null,
   "metadata": {},
   "outputs": [],
   "source": [
    "def compute_clustering_coefficient(adjacency, node):\n",
    "    \"\"\"Compute the clustering coefficient of a node.\n",
    "    \n",
    "    Parameters\n",
    "    ----------\n",
    "    adjacency: numpy array\n",
    "        The (weighted) adjacency matrix of a graph.\n",
    "    node: int\n",
    "        The node whose clustering coefficient will be computed. A number between 0 and n_nodes-1.\n",
    "    \n",
    "    Returns\n",
    "    -------\n",
    "    float\n",
    "        The clustering coefficient of the node. A number between 0 and 1.\n",
    "    \"\"\"\n",
    "    \n",
    "    adjacency[adjacency >1]=1\n",
    "    neighbors = adjacency[node]\n",
    "    indices = np.argwhere(neighbors > 0).flatten()\n",
    "    \n",
    "    if len(indices) <2:\n",
    "        return 0\n",
    "    \n",
    "    #Take the neighbors of the neighbors, and find wich one are linked together\n",
    "    neiofnei = adjacency[indices]\n",
    "    test = neiofnei * neighbors\n",
    "    count =  sum(test.flatten())\n",
    "    #Compute the clustering coefficient for the node. Since each link is counted twice, we don't multiply the formula by 2.\n",
    "    clustering_coefficient = count / (len(indices)*(len(indices)-1))    \n",
    "    \n",
    "    return clustering_coefficient"
   ]
  },
  {
   "cell_type": "markdown",
   "metadata": {},
   "source": [
    "### Question 14\n",
    "\n",
    "What is the average clustering coefficient of your graph (or of the largest connected component of your graph if your graph is disconnected)? Use the function ``compute_clustering_coefficient`` to determine your answer."
   ]
  },
  {
   "cell_type": "code",
   "execution_count": null,
   "metadata": {},
   "outputs": [],
   "source": [
    "adjacency_component = adjacency_sym[components[0]]\n",
    "adjacency_component = adjacency_component.T[components[0]].T\n",
    "N = len(components[0])\n",
    "count = 0\n",
    "for i in range(N):\n",
    "    count+=compute_clustering_coefficient(adjacency_component,i)\n",
    "\n",
    "avg_coeff = count/N\n",
    "\n",
    "print(\"The average coefficient of our largest connected component is : {}\".format(str(avg_coeff)))"
   ]
  }
 ],
 "metadata": {
  "kernelspec": {
   "display_name": "Python 3",
   "language": "python",
   "name": "python3"
  },
  "language_info": {
   "codemirror_mode": {
    "name": "ipython",
    "version": 3
   },
   "file_extension": ".py",
   "mimetype": "text/x-python",
   "name": "python",
   "nbconvert_exporter": "python",
   "pygments_lexer": "ipython3",
   "version": "3.6.6"
  }
 },
 "nbformat": 4,
 "nbformat_minor": 2
}
