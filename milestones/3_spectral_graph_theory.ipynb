{
 "cells": [
  {
   "cell_type": "markdown",
   "metadata": {},
   "source": [
    "# [NTDS'18] milestone 3: spectral graph theory\n",
    "[ntds'18]: https://github.com/mdeff/ntds_2018\n",
    "\n",
    "[Michaël Defferrard](http://deff.ch), [EPFL LTS2](https://lts2.epfl.ch)"
   ]
  },
  {
   "cell_type": "markdown",
   "metadata": {},
   "source": [
    "## Students\n",
    "\n",
    "* Team: `<34>`\n",
    "* Students: `<Valentin Morel, Xavier Sieber, Cédric Schumacher, Charles-Théophile Coen>`\n",
    "* Dataset: `<Terrorist attack>`"
   ]
  },
  {
   "cell_type": "markdown",
   "metadata": {},
   "source": [
    "## Rules\n",
    "\n",
    "* Milestones have to be completed by teams. No collaboration between teams is allowed.\n",
    "* Textual answers shall be short. Typically one to two sentences.\n",
    "* Code has to be clean.\n",
    "* You cannot import any other library than we imported.\n",
    "* When submitting, the notebook is executed and the results are stored. I.e., if you open the notebook again it should show numerical results and plots. We won't be able to execute your notebooks.\n",
    "* The notebook is re-executed from a blank state before submission. That is to be sure it is reproducible. You can click \"Kernel\" then \"Restart & Run All\" in Jupyter."
   ]
  },
  {
   "cell_type": "markdown",
   "metadata": {},
   "source": [
    "## Objective\n",
    "\n",
    "The goal of this milestone is to get familiar with the graph Laplacian and its spectral decomposition."
   ]
  },
  {
   "cell_type": "markdown",
   "metadata": {},
   "source": [
    "## 0 Load your network"
   ]
  },
  {
   "cell_type": "code",
   "execution_count": 1,
   "metadata": {},
   "outputs": [],
   "source": [
    "%matplotlib inline"
   ]
  },
  {
   "cell_type": "markdown",
   "metadata": {},
   "source": [
    "If you get a `No module named 'sklearn'` error when running the below cell, install [scikit-learn](https://scikit-learn.org) with `conda install scikit-learn` (after activating the `ntds_2018` environment)."
   ]
  },
  {
   "cell_type": "code",
   "execution_count": 2,
   "metadata": {},
   "outputs": [],
   "source": [
    "import numpy as np\n",
    "from scipy import sparse\n",
    "import scipy.sparse.linalg\n",
    "import matplotlib.pyplot as plt\n",
    "from sklearn.cluster import KMeans"
   ]
  },
  {
   "cell_type": "markdown",
   "metadata": {},
   "source": [
    "Let's denote your graph as $\\mathcal{G} = (\\mathcal{V}, \\mathcal{E}, A)$, where $\\mathcal{V}$ is the set of nodes, $\\mathcal{E}$ is the set of edges, $A \\in \\mathbb{R}^{N \\times N}$ is the (weighted) adjacency matrix, and $N = |\\mathcal{V}|$ is the number of nodes.\n",
    "\n",
    "Import the adjacency matrix $A$ that you constructed in the first milestone.\n",
    "(You're allowed to update it between milestones if you want to.)"
   ]
  },
  {
   "cell_type": "code",
   "execution_count": null,
   "metadata": {},
   "outputs": [],
   "source": [
    "adjacency = np.load('Adjacency1.npy') # Your code here.\n",
    "\n",
    "# Suppression of the nodes with 0 degree (otherwise problem when computing the normalized Laplacian)\n",
    "degree = adjacency.sum(axis=0)\n",
    "list_to_delete = []; # This array is going to contain all the index of the nodes with degree 0\n",
    "\n",
    "for i in range(0,len(adjacency)):\n",
    "    degree_node_i = degree.item(i)\n",
    "    \n",
    "    if degree_node_i == 0:\n",
    "        list_to_delete.append(i)\n",
    "        \n",
    "list_to_delete = np.array(list_to_delete)\n",
    "\n",
    "for j in range(0,len(list_to_delete)): \n",
    "    index = list_to_delete[j]\n",
    "    adjacency = np.delete(adjacency, index, axis=0)\n",
    "    adjacency = np.delete(adjacency, index, axis=1)\n",
    "    list_to_delete = list_to_delete - 1 \n",
    "\n",
    "degree = adjacency.sum(axis=0)\n",
    "n_nodes = len(adjacency) # Your code here."
   ]
  },
  {
   "cell_type": "markdown",
   "metadata": {},
   "source": [
    "## 1 Graph Laplacian"
   ]
  },
  {
   "cell_type": "markdown",
   "metadata": {},
   "source": [
    "### Question 1\n",
    "\n",
    "From the (weighted) adjacency matrix $A$, compute both the combinatorial (also called unnormalized) and the normalized graph Laplacian matrices.\n",
    "\n",
    "Note: if your graph is weighted, use the weighted adjacency matrix. If not, use the binary adjacency matrix.\n",
    "\n",
    "For efficient storage and computation, store these sparse matrices in a [compressed sparse row (CSR) format](https://en.wikipedia.org/wiki/Sparse_matrix#Compressed_sparse_row_.28CSR.2C_CRS_or_Yale_format.29)."
   ]
  },
  {
   "cell_type": "code",
   "execution_count": null,
   "metadata": {},
   "outputs": [],
   "source": [
    "adjacency = sparse.csr_matrix(adjacency) # Transformation of the adjacency matrix to a CSR matrix\n",
    "\n",
    "D = sparse.diags(degree) # Degree matrix\n",
    "D2 = sparse.diags(1/np.sqrt(degree)) # Represent D^(-1/2)\n",
    "\n",
    "laplacian_combinatorial = D - adjacency # Your code here.\n",
    "laplacian_normalized =  D2.dot(laplacian_combinatorial.dot(D2)) # Your code here."
   ]
  },
  {
   "cell_type": "markdown",
   "metadata": {},
   "source": [
    "Use one of them as the graph Laplacian $L$ for the rest of the milestone.\n",
    "We however encourage you to run the code with both to get a sense of the difference!"
   ]
  },
  {
   "cell_type": "code",
   "execution_count": null,
   "metadata": {},
   "outputs": [],
   "source": [
    "laplacian =  laplacian_combinatorial # Either laplacian_combinatorial or laplacian_normalized."
   ]
  },
  {
   "cell_type": "markdown",
   "metadata": {},
   "source": [
    "### Question 2\n",
    "\n",
    "Compute the eigendecomposition of the Laplacian $L = U^\\top \\Lambda U$, where the columns $u_k \\in \\mathbb{R}^N$ of $U = [u_1, \\dots, u_N] \\in \\mathbb{R}^{N \\times N}$ are the eigenvectors and the diagonal elements $\\lambda_k = \\Lambda_{kk}$ are the corresponding eigenvalues.\n",
    "\n",
    "Make sure that the eigenvalues are ordered, i.e., $0 = \\lambda_1 \\leq \\lambda_2 \\leq \\dots \\leq \\lambda_N$."
   ]
  },
  {
   "cell_type": "code",
   "execution_count": null,
   "metadata": {},
   "outputs": [],
   "source": [
    "# calculate eigendecomposition\n",
    "values, vectors = np.linalg.eigh(laplacian.toarray())\n",
    "\n",
    "eigenvectors = vectors # Your code here.\n",
    "eigenvalues = np.round(np.absolute(values),2) # Your code here.\n",
    "\n",
    "assert eigenvectors.shape == (n_nodes, n_nodes)"
   ]
  },
  {
   "cell_type": "markdown",
   "metadata": {},
   "source": [
    "Justify your choice of eigensolver."
   ]
  },
  {
   "cell_type": "markdown",
   "metadata": {},
   "source": [
    "**Your answer here.**\n",
    "\n",
    "As our laplacian matrix is a sparse matrix, it would be logical to use the function sparse.linalg.eigs() in order to find the eigen decomposition. Unfortunately, with this function, we can only get N-1 eigenvalues. Thus, in order to find all the eigenvalues of the laplacian, we transformed our matrix to a np.ndarray in order to use the function np.linalg.eigh(), which gives us the complete decomposition for a Hermitian matrix."
   ]
  },
  {
   "cell_type": "markdown",
   "metadata": {},
   "source": [
    "### Question 3\n",
    "\n",
    "We can write $L = S S^\\top$. What is the matrix $S$? What does $S^\\top x$, with $x \\in \\mathbb{R}^N$, compute?"
   ]
  },
  {
   "cell_type": "markdown",
   "metadata": {},
   "source": [
    "**Your answer here.**\n",
    "\n",
    "$S$ is the incidence matrix. It takes as input a node ($n_i$) and an edge ($e_j$). For directed graph we have:\n",
    "* If the edge $e_j$ is going from $n_i$ to $n_k$, the value $S[i,j]$ of the matrix is going to be 1 \n",
    "* If the edge $e_j$ is going from $n_k$ to $n_i$, the value $S[i,j]$ of the matrix is going to be -1 \n",
    "* If the edge $e_j$ is not related to $n_i$, the value $S[i,j]$ of the matrix is going to be 0\n",
    "\n",
    "For undirected graph, if the edge $e_j$ is going from $n_i$ to $n_k$ or the other way around, the value $S[i,j]$ of the matrix is going to be 1.\n",
    "\n",
    "Each row of the $S^\\top$ matrix is going to have two values only: a $+1$ at the node corresponding to the head of the edge, and a $-1$ at the node corresponding to the tail of the edge. The vector $x$ attributes a values for each node, and therefore, the product $S^\\top x$ represents the difference between the two numbers given to the two nodes of an edge. This is correct for directed graph.\n",
    "\n",
    "For undirected graph, the product $S^\\top x$ represents the addition of the two numbers given to the nodes of an edge."
   ]
  },
  {
   "cell_type": "markdown",
   "metadata": {},
   "source": [
    "### Question 4\n",
    "\n",
    "Show that $\\lambda_k = \\| S^\\top u_k \\|_2^2$, where $\\| \\cdot \\|_2^2$ denotes the squared Euclidean norm (a.k.a. squared $L^2$ norm)."
   ]
  },
  {
   "cell_type": "markdown",
   "metadata": {},
   "source": [
    "**Your answer here.**\n",
    "\n",
    "$\\lambda_k = \\lambda_k u_k^\\top u_k = u_k^\\top \\lambda_k u_k = u_k^\\top L u_k = u_k^\\top S S^\\top u_k =  (S^\\top u_k)^\\top  S^\\top u_k=\\| S^\\top u_k \\|_2^2 $\n"
   ]
  },
  {
   "cell_type": "markdown",
   "metadata": {},
   "source": [
    "What does the quantity $\\| S^\\top x \\|_2^2$ tell us about $x$?"
   ]
  },
  {
   "cell_type": "markdown",
   "metadata": {},
   "source": [
    "**Your answer here.**\n",
    "\n",
    "The quantity $\\| S^\\top x \\|_2^2$ tell us the difference, or derivative, of the vector $x$ along all the edges of our graph. "
   ]
  },
  {
   "cell_type": "markdown",
   "metadata": {},
   "source": [
    "### Question 5\n",
    "\n",
    "What is the value of $u_0$, both for the combinatorial and normalized Laplacians?"
   ]
  },
  {
   "cell_type": "markdown",
   "metadata": {},
   "source": [
    "**Your annswer here.**\n",
    "\n",
    "As our graph has many disconnected components, we are not going to find one single constant eigenvector, as we would expect according to the theory. Instead, we are going to find one single constant vector by doing a linear combination of all the eigenvector of the eigenvalue 0."
   ]
  },
  {
   "cell_type": "markdown",
   "metadata": {},
   "source": [
    "### Question 6\n",
    "\n",
    "Look at the spectrum of the Laplacian by plotting the eigenvalues.\n",
    "Comment on what you observe."
   ]
  },
  {
   "cell_type": "code",
   "execution_count": null,
   "metadata": {},
   "outputs": [],
   "source": [
    "plt.figure(figsize=(25, 5))\n",
    "for i in range(0, len(eigenvalues)):\n",
    "    plt.bar(i,eigenvalues[i], width=0.5)\n",
    "plt.show()"
   ]
  },
  {
   "cell_type": "markdown",
   "metadata": {},
   "source": [
    "**Your answer here.**\n",
    "\n",
    "An interesting part of the spectrum that we can see on both Laplacian, is the eigenvalues equal to 0. For both, the combinatorial and normalized Laplacian, we have 139 eigenvalues equal to 0. From the theory, we know that the multiplicity of the eivenvalue 0 is equal to the number of connected components."
   ]
  },
  {
   "cell_type": "markdown",
   "metadata": {},
   "source": [
    "How many connected components are there in your graph? Answer using the eigenvalues only."
   ]
  },
  {
   "cell_type": "code",
   "execution_count": null,
   "metadata": {},
   "outputs": [],
   "source": [
    "# Your code here.\n",
    "number_connected_components = len(eigenvalues)- np.count_nonzero(eigenvalues)\n",
    "\n",
    "print('Number of connected componenets equal to', number_connected_components)"
   ]
  },
  {
   "cell_type": "markdown",
   "metadata": {},
   "source": [
    "Is there an upper bound on the eigenvalues, i.e., what is the largest possible eigenvalue? Answer for both the combinatorial and normalized Laplacians."
   ]
  },
  {
   "cell_type": "markdown",
   "metadata": {},
   "source": [
    "**Your answer here.**\n",
    "\n",
    "For the combinatorial Laplacian, there are no theoretical largest value for the engienvalue. However, we saw in the theory that the normalized Laplacian is bound to an upper value equal to 2."
   ]
  },
  {
   "cell_type": "markdown",
   "metadata": {},
   "source": [
    "## 3 Laplacian eigenmaps\n",
    "\n",
    "*Laplacian eigenmaps* is a method to embed a graph $\\mathcal{G}$ in a $d$-dimensional Euclidean space.\n",
    "That is, it associates a vector $z_i \\in \\mathbb{R}^d$ to every node $v_i \\in \\mathcal{V}$.\n",
    "The graph $\\mathcal{G}$ is thus embedded as $Z \\in \\mathbb{R}^{N \\times d}$."
   ]
  },
  {
   "cell_type": "markdown",
   "metadata": {},
   "source": [
    "### Question 7\n",
    "\n",
    "What do we use Laplacian eigenmaps for? (Or more generally, graph embeddings.)"
   ]
  },
  {
   "cell_type": "markdown",
   "metadata": {},
   "source": [
    "**Your answer here.**\n",
    "\n",
    "Laplacian eigenmaps are used for nonlinear dimensionality reduction. \n",
    "Traditional techniques like PCA don't consider the intrinsic geometry of the data.\n",
    "So Laplacian eigenmaps builds a graph from neighborhood information of the data set. Each data point serves as a node on the graph and connectivity between nodes is governed by the proximity of neighboring points (using e.g. the k-nearest neighbor algorithm)."
   ]
  },
  {
   "cell_type": "markdown",
   "metadata": {},
   "source": [
    "### Question 8\n",
    "\n",
    "Embed your graph in $d=2$ dimensions with Laplacian eigenmaps.\n",
    "Try with and without re-normalizing the eigenvectors by the degrees, then keep the one your prefer.\n",
    "\n",
    "**Recompute** the eigenvectors you need with a partial eigendecomposition method for sparse matrices.\n",
    "When $k \\ll N$ eigenvectors are needed, partial eigendecompositions are much more efficient than complete eigendecompositions.\n",
    "A partial eigendecomposition scales as $\\Omega(k |\\mathcal{E}|$), while a complete eigendecomposition costs $\\mathcal{O}(N^3)$ operations."
   ]
  },
  {
   "cell_type": "code",
   "execution_count": 3,
   "metadata": {},
   "outputs": [],
   "source": [
    "import pandas as pd\n",
    "from scipy.spatial.distance import pdist, squareform\n",
    "import networkx as nx"
   ]
  },
  {
   "cell_type": "code",
   "execution_count": 4,
   "metadata": {},
   "outputs": [],
   "source": [
    "# Prepare the 106 features \n",
    "features = pd.read_csv('TerrorAttack/terrorist_attack.nodes',delim_whitespace=' ',header = None,engine='python')\n",
    "gt = features[[107]]\n",
    "features = features.drop( columns=0)\n",
    "features = features.drop(columns=107)\n",
    "X = features\n",
    "\n",
    "np.save('features_matrix', X )\n",
    "\n",
    "# Creation of the adjacency matrix for the Laplacian Eigenmaps corresponding to the distance\n",
    "distances = pdist(X.values, metric='euclidean')\n",
    "kernel_width = distances.mean()\n",
    "weights = np.exp(-distances**2 / kernel_width**2)\n",
    "adjacency_eigen = squareform(weights)\n",
    "adjacency_eigen[adjacency_eigen < np.mean(weights)] = 0\n",
    "adjacency_eigen[adjacency_eigen >= np.mean(weights)] = 1\n",
    "\n",
    "degree_eigen = adjacency_eigen.sum(axis=0)\n",
    "\n",
    "adjacency_eigen = sparse.csr_matrix(adjacency_eigen)\n",
    "sparse.save_npz('adjacency_sparse', adjacency_eigen)"
   ]
  },
  {
   "cell_type": "code",
   "execution_count": 5,
   "metadata": {},
   "outputs": [],
   "source": [
    "D_eigen = sparse.diags(degree_eigen) # Degree matrix\n",
    "D2_eigen = sparse.diags(1/np.sqrt(degree_eigen)) # Represent D^(-1/2)\n",
    "\n",
    "laplacian_combinatorial_eigen = D_eigen - adjacency_eigen # Your code here.\n",
    "laplacian_normalized_eigen =  D2_eigen.dot(laplacian_combinatorial_eigen.dot(D2_eigen)) # Your code here."
   ]
  },
  {
   "cell_type": "markdown",
   "metadata": {},
   "source": [
    "Plot the nodes embedded in 2D. Comment on what you see."
   ]
  },
  {
   "cell_type": "code",
   "execution_count": 9,
   "metadata": {},
   "outputs": [
    {
     "data": {
      "image/png": "[encoded data removed]",
      "text/plain": [
       "<Figure size 432x288 with 1 Axes>"
      ]
     },
     "metadata": {},
     "output_type": "display_data"
    }
   ],
   "source": [
    "laplacian_eigen = laplacian_normalized_eigen\n",
    "\n",
    "sparse.save_npz('laplacian_normalized_sparse',laplacian_eigen)\n",
    "\n",
    "val, vect = sparse.linalg.eigsh(laplacian_eigen, k = 11, which = 'SM')\n",
    "v1=vect[:,1]\n",
    "v2=vect[:,2]\n",
    "v3=vect[:,3]\n",
    "v4=vect[:,4]\n",
    "v5=vect[:,5]\n",
    "v6=vect[:,6]\n",
    "v7=vect[:,7]\n",
    "v8=vect[:,8]\n",
    "v9=vect[:,9]\n",
    "v10=vect[:,10]\n",
    "new_x1=adjacency_eigen*v1\n",
    "new_x2=adjacency_eigen*v2\n",
    "new_x3=adjacency_eigen*v3\n",
    "new_x4=adjacency_eigen*v4\n",
    "new_x5=adjacency_eigen*v5\n",
    "new_x6=adjacency_eigen*v6\n",
    "new_x7=adjacency_eigen*v7\n",
    "new_x8=adjacency_eigen*v8\n",
    "new_x9=adjacency_eigen*v9\n",
    "new_x10=adjacency_eigen*v10\n",
    "plt.scatter(v1,v2,s = 3);"
   ]
  },
  {
   "cell_type": "markdown",
   "metadata": {},
   "source": [
    "**Your answer here.**\n",
    "\n",
    "In 2D, we cannot really observe any significant clusters. A projection in higher manifold would probably be better. "
   ]
  },
  {
   "cell_type": "markdown",
   "metadata": {},
   "source": [
    "### Question 9"
   ]
  },
  {
   "cell_type": "markdown",
   "metadata": {},
   "source": [
    "What does the embedding $Z \\in \\mathbb{R}^{N \\times d}$ preserve?"
   ]
  },
  {
   "cell_type": "markdown",
   "metadata": {},
   "source": [
    "The similarities (local information) with smallest possible error. If two data are close to each other in the $\\mathbb{R}^{N \\times L}$ domain, these two data should also be close to each other in the $\\mathbb{R}^{N \\times d}$ domain."
   ]
  },
  {
   "cell_type": "markdown",
   "metadata": {},
   "source": [
    "## 2 Spectral clustering\n",
    "\n",
    "*Spectral clustering* is a method to partition a graph into distinct clusters.\n",
    "The method associates a feature vector $z_i \\in \\mathbb{R}^d$ to every node $v_i \\in \\mathcal{V}$, then runs [$k$-means](https://en.wikipedia.org/wiki/K-means_clustering) in the embedding space $\\mathbb{R}^d$ to assign each node $v_i \\in \\mathcal{V}$ to a cluster $c_j \\in \\mathcal{C}$, where $k = |\\mathcal{C}|$ is the number of desired clusters."
   ]
  },
  {
   "cell_type": "markdown",
   "metadata": {},
   "source": [
    "### Question 10\n",
    "\n",
    "Choose $k$ and $d$. How did you get to those numbers?"
   ]
  },
  {
   "cell_type": "markdown",
   "metadata": {},
   "source": [
    "k=6 because there were 6 distinct labels in the feature file, the goal is to check if we can cluster the the features into the 6 categories. \n",
    "\n",
    "The d represent the number of eigenvector that we use for the KMean. We tried ranging the d between 2 and 20 eigenvectors, and we found that the minimum error rate was obtained with d = 10."
   ]
  },
  {
   "cell_type": "markdown",
   "metadata": {},
   "source": [
    "### Question 11\n",
    "\n",
    "1. Embed your graph in $\\mathbb{R}^d$ as $Z \\in \\mathbb{R}^{N \\times d}$.\n",
    "   Try with and without re-normalizing the eigenvectors by the degrees, then keep the one your prefer.\n",
    "1. If you want $k=2$ clusters, partition with the Fiedler vector. For $k > 2$ clusters, run $k$-means on $Z$. Don't implement $k$-means, use the `KMeans` class imported from scikit-learn."
   ]
  },
  {
   "cell_type": "code",
   "execution_count": null,
   "metadata": {},
   "outputs": [],
   "source": [
    "# Your code here.\n",
    "kmeans = KMeans(n_clusters=6, random_state = 1) \n",
    "data=np.transpose(np.vstack((v1,v2,v3,v4,v5,v6, v7, v8, v9, new_x10)))\n",
    "kmeans.fit_predict(data);"
   ]
  },
  {
   "cell_type": "markdown",
   "metadata": {},
   "source": [
    "### Question 12\n",
    "\n",
    "Use the computed cluster assignment to reorder the adjacency matrix $A$.\n",
    "What do you expect? What do you observe?"
   ]
  },
  {
   "cell_type": "code",
   "execution_count": null,
   "metadata": {},
   "outputs": [],
   "source": [
    "# Your code here.\n",
    "adj_ord=adjacency_eigen\n",
    "labels=kmeans.labels_\n",
    "indx = np.argsort(labels)\n",
    "adj_ord=adj_ord[indx,:][:,indx]\n",
    "plt.spy(adj_ord,markersize=0.004);"
   ]
  },
  {
   "cell_type": "markdown",
   "metadata": {},
   "source": [
    "**Your answer here.**\n",
    "\n",
    "We expect to see the different clusters that we made with the kmeans. \n",
    "\n",
    "And as expected, we can clearly see 6 patterns in the adjacency matrix. We can also see that 3 different clusters are on top of each other on the top left of the adjacency matrix. This may be the reason why, in the following task, the differentation between the 6 clusters is going to hard to get."
   ]
  },
  {
   "cell_type": "markdown",
   "metadata": {},
   "source": [
    "### Question 13\n",
    "\n",
    "If you have ground truth clusters for your dataset, compare the cluster assignment from spectral clustering to the ground truth.\n",
    "A simple quantitative measure is to compute the percentage of nodes that have been correctly categorized.\n",
    "If you don't have a ground truth, qualitatively assess the quality of the clustering.\n",
    "\n",
    "Ground truth clusters are the \"real clusters\".\n",
    "For example, the genre of musical tracks in FMA, the category of Wikipedia articles, the spammer status of individuals, etc.\n",
    "Look for the `labels` in the [dataset descriptions](https://github.com/mdeff/ntds_2018/tree/master/projects/README.md)."
   ]
  },
  {
   "cell_type": "code",
   "execution_count": null,
   "metadata": {},
   "outputs": [],
   "source": [
    "# Your code here.\n",
    "# Dictionary to map ordinal features arbitrary. choice based on pourcentage for k-means label in order to minimize the error\n",
    "gt[107] = gt[107].map(lambda x: x.lstrip('http://counterterror.mindswap.org2005/ict_events.owl#'))\n",
    "dico = {'Arson':0, 'Bombing':3, 'Kidnapping':4, 'NBCR_Attack':2, 'k':5, 'Weapon_Attack':1}\n",
    "gt_dico = gt.replace(dico)\n",
    "gt_labels=np.squeeze(gt_dico)\n",
    "kmeans_labels = kmeans.labels_\n",
    "diff = kmeans_labels-gt_labels\n",
    "nbr_diff = np.count_nonzero(diff, axis=0)\n",
    "print('The percentage of true clustering is ',np.round((1293-nbr_diff)/1293*100,2), '%.')"
   ]
  },
  {
   "cell_type": "markdown",
   "metadata": {},
   "source": [
    "##### **Remark**\n",
    "\n",
    "The percentage of true clustering is very low. The labelling of the ground truth might be based on additional information that are not accesbile in our dataset."
   ]
  },
  {
   "cell_type": "markdown",
   "metadata": {},
   "source": [
    "### Question 14\n",
    "\n",
    "Plot the cluster assignment (one color per cluster) on the 2D embedding you computed above with Laplacian eigenmaps."
   ]
  },
  {
   "cell_type": "code",
   "execution_count": null,
   "metadata": {},
   "outputs": [],
   "source": [
    "# Projection of our data on two eigenvectors. \n",
    "# As we have d = 10, we plotted all the possibilities of 2 eigenvectors among the 10 we have.\n",
    "# The plot asked for is in position (0,1) \n",
    "max = 10\n",
    "plt.figure(figsize=(20, 20))\n",
    "for a in range(0,max):\n",
    "        for b in range(0,max):\n",
    "            plt.subplot(max,max,a*max+(b+1))\n",
    "            plt.scatter(data[:,a],data[:,b], c=kmeans_labels, cmap='rainbow', s=0.2)\n",
    "            \n",
    "            plt.title(\"Vec_1: %d, Vec_2: %d\" %(a+1,b+1))\n",
    "plt.show;"
   ]
  },
  {
   "cell_type": "code",
   "execution_count": null,
   "metadata": {},
   "outputs": [],
   "source": [
    "plt.scatter(data[:,0],data[:,1], c=kmeans_labels, cmap='rainbow', s=5)"
   ]
  },
  {
   "cell_type": "code",
   "execution_count": null,
   "metadata": {},
   "outputs": [],
   "source": [
    "plt.scatter(data[:,0],data[:,1], c=gt_labels, cmap='rainbow', s=5) # Ground truth, we clearly see the difference"
   ]
  },
  {
   "cell_type": "markdown",
   "metadata": {},
   "source": [
    "### Question 15\n",
    "\n",
    "Why did we use the eigenvectors of the graph Laplacian as features? Could we use other features for clustering?"
   ]
  },
  {
   "cell_type": "markdown",
   "metadata": {},
   "source": [
    "**Your answer here.**\n",
    "\n",
    "It gives some representation about the proximity of the nodes in our graph. We could have used the eigenvectors of PCA, but it would not keep the information about the proximity of the nodes."
   ]
  }
 ],
 "metadata": {
  "kernelspec": {
   "display_name": "Python 3",
   "language": "python",
   "name": "python3"
  },
  "language_info": {
   "codemirror_mode": {
    "name": "ipython",
    "version": 3
   },
   "file_extension": ".py",
   "mimetype": "text/x-python",
   "name": "python",
   "nbconvert_exporter": "python",
   "pygments_lexer": "ipython3",
   "version": "3.6.6"
  }
 },
 "nbformat": 4,
 "nbformat_minor": 2
}
